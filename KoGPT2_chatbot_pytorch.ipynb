{
  "cells": [
    {
      "cell_type": "code",
      "metadata": {
        "id": "sOqL-ERxwMDz",
        "colab_type": "code",
        "colab": {
          "base_uri": "https://localhost:8080/",
          "height": 364
        },
        "outputId": "736237e4-5772-4a0a-d628-eca21a883317"
      },
      "source": [
        "# GPU 정보 \n",
        "!nvidia-smi"
      ],
      "execution_count": null,
      "outputs": []
    },
    {
      "cell_type": "code",
      "metadata": {
        "id": "P8W3gZk2ijYN",
        "colab_type": "code",
        "colab": {
          "base_uri": "https://localhost:8080/",
          "height": 208
        },
        "outputId": "bc4ee445-1bf3-4af2-c433-375634918c7c"
      },
      "source": [
        "# KoGPT2-chatbot 소스 코드 복사\n",
        "!git clone --recurse-submodules https://github.com/forallx94/KoGPT2-chatbot.git"
      ],
      "execution_count": null,
      "outputs": []
    },
    {
      "cell_type": "code",
      "metadata": {
        "id": "e9ZweKmXiuaK",
        "colab_type": "code",
        "colab": {
          "base_uri": "https://localhost:8080/",
          "height": 34
        },
        "outputId": "6cc6ce8b-105b-4f39-b865-22508865cf6c"
      },
      "source": [
        "# 폴더 이동\n",
        "%cd KoGPT2-chatbot"
      ],
      "execution_count": null,
      "outputs": []
    },
    {
      "cell_type": "code",
      "execution_count": null,
      "metadata": {},
      "outputs": [],
      "source": [
        "!pip install -r requirements.txt"
      ]
    },
    {
      "cell_type": "code",
      "metadata": {
        "id": "xKMZv-ZsiqkB",
        "colab_type": "code",
        "colab": {
          "base_uri": "https://localhost:8080/",
          "height": 732
        },
        "outputId": "7cf55491-8fbd-4201-a849-9616b638d3d5"
      },
      "source": [
        "# 사전훈련된 KoGPT2를 챗봇 데이터로 파인튜닝\n",
        "!CUDA_VISIBLE_DEVICES=0 python train_torch.py --train --gpus 1 --max_epochs 2"
      ],
      "execution_count": null,
      "outputs": []
    },
    {
      "cell_type": "code",
      "metadata": {
        "id": "f3yDcidi6wFA",
        "colab_type": "code",
        "colab": {
          "base_uri": "https://localhost:8080/",
          "height": 330
        },
        "outputId": "b66e761c-3731-4f82-ce8b-411a65a7363d"
      },
      "source": [
        "# 대화 테스트, `quit`를 입력하면 대화를 종료합니다.\n",
        "!CUDA_VISIBLE_DEVICES=0 python train_torch.py --gpus 1 --chat"
      ],
      "execution_count": null,
      "outputs": []
    },
    {
      "cell_type": "code",
      "execution_count": 12,
      "metadata": {},
      "outputs": [
        {
          "output_type": "stream",
          "name": "stdout",
          "text": [
            "그게 당신의 운이었을 거예요.\n"
          ]
        }
      ],
      "source": [
        "# 모듈로 로드 하여 진행하는 과정\n",
        "from test_torch import KoGPT2Chat\n",
        "model = KoGPT2Chat.load_from_checkpoint('model_chp/model_-last.ckpt')\n",
        "question = '내가 그의 이름을 불러 주었을 때'\n",
        "answer = model.chat(question)\n",
        "print(answer)"
      ]
    },
    {
      "cell_type": "code",
      "execution_count": null,
      "metadata": {},
      "outputs": [],
      "source": []
    }
  ],
  "metadata": {
    "colab": {
      "name": "KoGPT2_chatbot_pytorch",
      "provenance": [],
      "collapsed_sections": []
    },
    "kernelspec": {
      "name": "python3810jvsc74a57bd06a20dc269b0a46d455aeec36556a714d68506684ae704a395dd325f9d89220b5",
      "display_name": "Python 3.8.10 64-bit ('chat': conda)"
    },
    "accelerator": "GPU"
  },
  "nbformat": 4,
  "nbformat_minor": 0
}